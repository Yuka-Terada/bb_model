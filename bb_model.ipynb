{
 "cells": [
  {
   "cell_type": "markdown",
   "metadata": {
    "ExecuteTime": {
     "end_time": "2021-05-25T06:55:49.568475Z",
     "start_time": "2021-05-25T06:55:34.504300Z"
    }
   },
   "source": [
    "!pip install pysynphot"
   ]
  },
  {
   "cell_type": "code",
   "execution_count": 16,
   "metadata": {
    "ExecuteTime": {
     "end_time": "2021-07-25T03:13:41.855189Z",
     "start_time": "2021-07-25T03:13:41.849476Z"
    }
   },
   "outputs": [],
   "source": [
    "import os\n",
    "import numpy as np\n",
    "import matplotlib.pyplot as plt\n",
    "import pandas as pd\n",
    "from pysynphot import spectrum as S\n",
    "from glob import glob\n",
    "\n",
    "import scipy\n",
    "from scipy.optimize import minimize\n",
    "from scipy.constants import k,c,h\n",
    "from scipy import integrate\n",
    "\n",
    "from astropy import units as u\n",
    "from astropy import constants as const\n",
    "from astropy.constants import G,R_jup,R_sun,M_jup,M_sun,au,pc,sigma_sb"
   ]
  },
  {
   "cell_type": "markdown",
   "metadata": {},
   "source": [
    "# Definition"
   ]
  },
  {
   "cell_type": "code",
   "execution_count": 60,
   "metadata": {
    "ExecuteTime": {
     "end_time": "2021-07-25T08:18:52.446346Z",
     "start_time": "2021-07-25T08:18:52.438723Z"
    }
   },
   "outputs": [],
   "source": [
    "#Input wavelength: m\n",
    "\n",
    "def blackbody(temp,lam):\n",
    "    '''\n",
    "    Planck's law[W/m**2/m/sr][W/m**2/Hz/sr]  \n",
    "    [input]\n",
    "    temp: star's effective temperature\n",
    "    lam: wavelength[m]\n",
    "    [return]\n",
    "    B_lambda:the spectral radiance of a body for wavelength\n",
    "    B_freq:the spectral radiance of a body for frequency\n",
    "    '''\n",
    "    #frequency\n",
    "    nu = c/lam\n",
    "    B_lambda = 2*h*c**2 / (lam**5 * (np.exp(h*c/ (lam*k*temp)) - 1))\n",
    "    B_freq = 2*h*nu**3 / (c**3 * (np.exp(h*nu/(k*temp)) - 1))\n",
    "    return B_lambda, B_freq\n",
    "\n",
    "#[W/m**2]\n",
    "def sb(temp):\n",
    "    '''\n",
    "    Stefan–Boltzmann law[W] \n",
    "    [input]\n",
    "    temp: star's effective temperature\n",
    "    '''\n",
    "    rad = sigma_sb * temp**4\n",
    "    return rad\n",
    "\n",
    "\n",
    "#fixed temperature\n",
    "T = 3000\n",
    "\n",
    "\n",
    "\n",
    "\n",
    "#\n",
    "\n",
    "B_lambda = lambda lam: (2*h*c**2) / (lam**5 * (np.exp(h*c/ (lam*k*T)) - 1))\n",
    "\n",
    "B_freq = lambda nu: 2*h*nu**3 / (c**2 * (np.exp(h*nu/ (k*T)) - 1))"
   ]
  },
  {
   "cell_type": "code",
   "execution_count": 59,
   "metadata": {
    "ExecuteTime": {
     "end_time": "2021-07-25T08:18:50.048666Z",
     "start_time": "2021-07-25T08:18:50.040307Z"
    }
   },
   "outputs": [],
   "source": [
    "##calculate blackbody [W/m**2/m]\n",
    "def _bb(lam):\n",
    "    '''\n",
    "    Planck's law[W/m**2/m/sr] with fixed temperature\n",
    "    [input]\n",
    "    temp: star's effective temperature\n",
    "    '''    \n",
    "    B_lambda = (2*h*(np.power(c,2)) )/ (np.power(lam,5) * (np.exp(h*c/ (lam*k*T)) - 1))\n",
    "    \n",
    "    return B_lambda\n",
    "\n",
    "##calculate blackbody [W/m**2/Hz] - for calculating magnitude\n",
    "def _bb_f(lam):\n",
    "    '''\n",
    "    Planck's law[W/m**2/Hz/sr] with fixed temperature\n",
    "    [input]\n",
    "    temp: star's effective temperature\n",
    "    '''    \n",
    "    nu = c/lam\n",
    "    B_freq = 2*h*nu**3 / (c**2 * (np.exp(h*nu/ (k*T)) - 1))\n",
    "    \n",
    "    return B_freq"
   ]
  },
  {
   "cell_type": "markdown",
   "metadata": {},
   "source": [
    "# The Sun"
   ]
  },
  {
   "cell_type": "code",
   "execution_count": 62,
   "metadata": {
    "ExecuteTime": {
     "end_time": "2021-07-25T08:22:47.185744Z",
     "start_time": "2021-07-25T08:22:47.179964Z"
    }
   },
   "outputs": [
    {
     "data": {
      "text/plain": [
       "0.0001613394544225239"
      ]
     },
     "execution_count": 62,
     "metadata": {},
     "output_type": "execute_result"
    }
   ],
   "source": [
    "#erg/s/cm**2/Hz\n",
    "np.exp(-(-26.77+48.6)/2.5)"
   ]
  },
  {
   "cell_type": "code",
   "execution_count": 4,
   "metadata": {
    "ExecuteTime": {
     "end_time": "2021-07-25T03:05:17.146077Z",
     "start_time": "2021-07-25T03:05:17.140751Z"
    },
    "scrolled": false
   },
   "outputs": [
    {
     "name": "stdout",
     "output_type": "stream",
     "text": [
      " L_sun = 3.83e+26 W\n",
      "\n",
      " L_sun (from Stefan–Boltzmann law) = 3.84e+26 W / K4\n",
      "\n"
     ]
    }
   ],
   "source": [
    "#Literature\n",
    "\n",
    "#T_sun = 5777K\n",
    "print(' L_sun = {:.2e}\\n'.format(const.L_sun))\n",
    "F_total = sigma_sb * 5777**4\n",
    "L_sb = F_total * 4 * np.pi * R_sun**2\n",
    "print(' L_sun (from Stefan–Boltzmann law) = {:.2e}\\n'.format(L_sb))"
   ]
  },
  {
   "cell_type": "code",
   "execution_count": 63,
   "metadata": {
    "ExecuteTime": {
     "end_time": "2021-07-25T08:30:05.998670Z",
     "start_time": "2021-07-25T08:30:05.991723Z"
    }
   },
   "outputs": [
    {
     "name": "stdout",
     "output_type": "stream",
     "text": [
      "6307794.3752964325\n",
      "1.2052614638419066e+26 m2\n",
      "428.5688314082689\n"
     ]
    }
   ],
   "source": [
    "T=5700\n",
    "f_sun, f_sun_err = integrate.quad(B_freq, c/(7.4e-7), c/(4.6e-7)) \n",
    "L_s_test = f_sun * np.pi**2 * 4.0 * R_sun**2\n",
    "f_s_test = L_s_test /(4*np.pi*au**2)\n",
    "print(f_sun)\n",
    "print(L_s_test)\n",
    "print(f_s_test)"
   ]
  },
  {
   "cell_type": "code",
   "execution_count": 56,
   "metadata": {
    "ExecuteTime": {
     "end_time": "2021-07-25T06:57:16.391326Z",
     "start_time": "2021-07-25T06:57:16.113740Z"
    }
   },
   "outputs": [
    {
     "data": {
      "text/plain": [
       "Text(0, 0.5, 'Intensity[W/m2/Hz]')"
      ]
     },
     "execution_count": 56,
     "metadata": {},
     "output_type": "execute_result"
    },
    {
     "data": {
      "image/png": "[encoded data removed]",
      "text/plain": [
       "<Figure size 432x288 with 1 Axes>"
      ]
     },
     "metadata": {
      "needs_background": "light"
     },
     "output_type": "display_data"
    }
   ],
   "source": [
    "ar_lam = np.arange(1e-7, 3e-5, 1e-9)\n",
    "ar_bb = np.empty(len(ar_lam))\n",
    "for i in range(len(ar_lam)):\n",
    "    ar_bb[i] = _bb_f(ar_lam[i])\n",
    "    \n",
    "plt.plot(c/ar_lam, ar_bb)\n",
    "plt.xlabel('frequency[Hz]')\n",
    "plt.ylabel('Intensity[W/m2/Hz]')"
   ]
  },
  {
   "cell_type": "code",
   "execution_count": 34,
   "metadata": {
    "ExecuteTime": {
     "end_time": "2021-07-25T06:01:32.995583Z",
     "start_time": "2021-07-25T06:01:32.676914Z"
    }
   },
   "outputs": [
    {
     "name": "stdout",
     "output_type": "stream",
     "text": [
      "18633725.195909917\n",
      " L_sun_test = 3.56e+26 m2\n",
      "\n"
     ]
    },
    {
     "data": {
      "image/png": "[encoded data removed]",
      "text/plain": [
       "<Figure size 432x288 with 1 Axes>"
      ]
     },
     "metadata": {
      "needs_background": "light"
     },
     "output_type": "display_data"
    }
   ],
   "source": [
    "#test: calculate Luminosity of the Sun\n",
    "#The blackbody radiation from the Sun: 100nm ~ 2500nm(3000nm)\n",
    "ar_lam = np.arange(1e-7, 3e-5, 1e-9)\n",
    "ar_bb = np.empty(len(ar_lam))\n",
    "for i in range(len(ar_lam)):\n",
    "    ar_bb[i] = _bb(ar_lam[i])\n",
    "    \n",
    "plt.plot(ar_lam, ar_bb)\n",
    "plt.xlabel('wavelength[nm]')\n",
    "plt.ylabel('Intensity[W/m2/m]')\n",
    "\n",
    "T=5700\n",
    "# Luminosity = F_total * surface area(4*pi*R_sun**2) = pi * integral(Blackbody,all wavelength) * surface area \n",
    "f_sun, f_sun_err = integrate.quad(B_lambda, 1e-7, 3e-6) \n",
    "L_s_test = f_sun * np.pi**2 * 4.0 * R_sun**2\n",
    "print(f_sun)\n",
    "print(' L_sun_test = {:.2e}\\n'.format(L_s_test))"
   ]
  },
  {
   "cell_type": "markdown",
   "metadata": {},
   "source": [
    "# Transmission"
   ]
  },
  {
   "cell_type": "code",
   "execution_count": 41,
   "metadata": {
    "ExecuteTime": {
     "end_time": "2021-07-25T06:07:41.272901Z",
     "start_time": "2021-07-25T06:07:41.094827Z"
    }
   },
   "outputs": [
    {
     "name": "stdout",
     "output_type": "stream",
     "text": [
      "['./Generic_Johnson.B.dat', './Generic_Johnson.I.dat', './Generic_Johnson.R.dat', './Generic_Johnson.V.dat', './Kepler_Kepler.K.dat']\n"
     ]
    },
    {
     "data": {
      "text/plain": [
       "Text(0.5, 0, 'wavelength[m]')"
      ]
     },
     "execution_count": 41,
     "metadata": {},
     "output_type": "execute_result"
    },
    {
     "data": {
      "image/png": "[encoded data removed]",
      "text/plain": [
       "<Figure size 1080x288 with 1 Axes>"
      ]
     },
     "metadata": {
      "needs_background": "light"
     },
     "output_type": "display_data"
    }
   ],
   "source": [
    "datadir = '.'\n",
    "path    = os.path.join(datadir,'*.dat')\n",
    "file_list = glob(path)\n",
    "file_list = sorted(file_list)\n",
    "print(file_list)\n",
    "\n",
    "filt={}\n",
    "bands = 'B,I,R,V,Kepler'.split(',')\n",
    "for fname,b in zip(file_list,bands):\n",
    "    df=pd.read_table(fname, delimiter=' ', parse_dates=True, header=None)\n",
    "    #df = df.drop('Unnamed: 0',axis=1)\n",
    "    #df = df.set_index('GJD-2450000')\n",
    "    filt[b] = df\n",
    "filt.keys()\n",
    "\n",
    "lam_col =  'lambda'\n",
    "trans_col  =  'transmission'\n",
    "\n",
    "colors='b,r,orange,g,black'.split(',')\n",
    "fig,ax = plt.subplots(1,1,figsize=(15,4))\n",
    "\n",
    "n=0\n",
    "for b,co in zip(bands,colors):\n",
    "    df = filt[b]    \n",
    "    lam_nm = df[0]*1e-10\n",
    "    trans = df[1]\n",
    "    \n",
    "    ax.plot(lam_nm, trans, label=b, color=co, alpha=0.5)\n",
    "    ax.set_ylabel('Transmission', fontsize=12)\n",
    "    n+=1\n",
    "plt.legend(loc='upper right',fontsize=12)\n",
    "plt.xlabel('wavelength[m]',fontsize=12)"
   ]
  },
  {
   "cell_type": "markdown",
   "metadata": {},
   "source": [
    "## Test: transmittance=100%"
   ]
  },
  {
   "cell_type": "code",
   "execution_count": 42,
   "metadata": {
    "ExecuteTime": {
     "end_time": "2021-07-25T06:07:52.001772Z",
     "start_time": "2021-07-25T06:07:51.974209Z"
    }
   },
   "outputs": [
    {
     "data": {
      "text/html": [
       "<div>\n",
       "<style scoped>\n",
       "    .dataframe tbody tr th:only-of-type {\n",
       "        vertical-align: middle;\n",
       "    }\n",
       "\n",
       "    .dataframe tbody tr th {\n",
       "        vertical-align: top;\n",
       "    }\n",
       "\n",
       "    .dataframe thead th {\n",
       "        text-align: right;\n",
       "    }\n",
       "</style>\n",
       "<table border=\"1\" class=\"dataframe\">\n",
       "  <thead>\n",
       "    <tr style=\"text-align: right;\">\n",
       "      <th></th>\n",
       "      <th>0</th>\n",
       "      <th>1</th>\n",
       "    </tr>\n",
       "  </thead>\n",
       "  <tbody>\n",
       "    <tr>\n",
       "      <th>0</th>\n",
       "      <td>4600.0</td>\n",
       "      <td>0.00</td>\n",
       "    </tr>\n",
       "    <tr>\n",
       "      <th>1</th>\n",
       "      <td>4800.0</td>\n",
       "      <td>0.02</td>\n",
       "    </tr>\n",
       "    <tr>\n",
       "      <th>2</th>\n",
       "      <td>5000.0</td>\n",
       "      <td>0.38</td>\n",
       "    </tr>\n",
       "    <tr>\n",
       "      <th>3</th>\n",
       "      <td>5200.0</td>\n",
       "      <td>0.91</td>\n",
       "    </tr>\n",
       "    <tr>\n",
       "      <th>4</th>\n",
       "      <td>5400.0</td>\n",
       "      <td>0.98</td>\n",
       "    </tr>\n",
       "    <tr>\n",
       "      <th>5</th>\n",
       "      <td>5600.0</td>\n",
       "      <td>0.72</td>\n",
       "    </tr>\n",
       "    <tr>\n",
       "      <th>6</th>\n",
       "      <td>5800.0</td>\n",
       "      <td>0.62</td>\n",
       "    </tr>\n",
       "    <tr>\n",
       "      <th>7</th>\n",
       "      <td>6000.0</td>\n",
       "      <td>0.40</td>\n",
       "    </tr>\n",
       "    <tr>\n",
       "      <th>8</th>\n",
       "      <td>6200.0</td>\n",
       "      <td>0.20</td>\n",
       "    </tr>\n",
       "    <tr>\n",
       "      <th>9</th>\n",
       "      <td>6400.0</td>\n",
       "      <td>0.08</td>\n",
       "    </tr>\n",
       "    <tr>\n",
       "      <th>10</th>\n",
       "      <td>6600.0</td>\n",
       "      <td>0.02</td>\n",
       "    </tr>\n",
       "    <tr>\n",
       "      <th>11</th>\n",
       "      <td>6800.0</td>\n",
       "      <td>0.01</td>\n",
       "    </tr>\n",
       "    <tr>\n",
       "      <th>12</th>\n",
       "      <td>7000.0</td>\n",
       "      <td>0.01</td>\n",
       "    </tr>\n",
       "    <tr>\n",
       "      <th>13</th>\n",
       "      <td>7200.0</td>\n",
       "      <td>0.01</td>\n",
       "    </tr>\n",
       "    <tr>\n",
       "      <th>14</th>\n",
       "      <td>7400.0</td>\n",
       "      <td>0.00</td>\n",
       "    </tr>\n",
       "  </tbody>\n",
       "</table>\n",
       "</div>"
      ],
      "text/plain": [
       "         0     1\n",
       "0   4600.0  0.00\n",
       "1   4800.0  0.02\n",
       "2   5000.0  0.38\n",
       "3   5200.0  0.91\n",
       "4   5400.0  0.98\n",
       "5   5600.0  0.72\n",
       "6   5800.0  0.62\n",
       "7   6000.0  0.40\n",
       "8   6200.0  0.20\n",
       "9   6400.0  0.08\n",
       "10  6600.0  0.02\n",
       "11  6800.0  0.01\n",
       "12  7000.0  0.01\n",
       "13  7200.0  0.01\n",
       "14  7400.0  0.00"
      ]
     },
     "execution_count": 42,
     "metadata": {},
     "output_type": "execute_result"
    }
   ],
   "source": [
    "filt['V']"
   ]
  },
  {
   "cell_type": "code",
   "execution_count": 21,
   "metadata": {
    "ExecuteTime": {
     "end_time": "2021-07-25T03:23:30.961498Z",
     "start_time": "2021-07-25T03:23:30.946734Z"
    }
   },
   "outputs": [],
   "source": [
    "T=3000\n",
    "R_s=2*R_sun\n",
    "\n",
    "flux_100 = []\n",
    "\n",
    "for b in bands:\n",
    "    df = filt[b]\n",
    "    min_w = np.min(df[0])*1e-10\n",
    "    max_w = np.max(df[0])*1e-10\n",
    "    f_100,f_100err = integrate.quad(_bb,min_w,max_w) \n",
    "    flux_100.append(f_100)"
   ]
  },
  {
   "cell_type": "code",
   "execution_count": 22,
   "metadata": {
    "ExecuteTime": {
     "end_time": "2021-07-25T03:23:32.273507Z",
     "start_time": "2021-07-25T03:23:32.267990Z"
    }
   },
   "outputs": [
    {
     "data": {
      "text/plain": [
       "[37444.821711553144,\n",
       " 483239.30172304047,\n",
       " 335204.51769256167,\n",
       " 142754.04928740064,\n",
       " 368872.80898427893]"
      ]
     },
     "execution_count": 22,
     "metadata": {},
     "output_type": "execute_result"
    }
   ],
   "source": [
    "flux_100"
   ]
  },
  {
   "cell_type": "code",
   "execution_count": 8,
   "metadata": {
    "ExecuteTime": {
     "end_time": "2021-07-12T10:58:09.691823Z",
     "start_time": "2021-07-12T10:58:09.499005Z"
    }
   },
   "outputs": [
    {
     "ename": "TypeError",
     "evalue": "ufunc 'true_divide' not supported for the input types, and the inputs could not be safely coerced to any supported types according to the casting rule ''safe''",
     "output_type": "error",
     "traceback": [
      "\u001b[0;31m---------------------------------------------------------------------------\u001b[0m",
      "\u001b[0;31mTypeError\u001b[0m                                 Traceback (most recent call last)",
      "\u001b[0;32m<ipython-input-8-e1ef39cd7f64>\u001b[0m in \u001b[0;36m<module>\u001b[0;34m\u001b[0m\n\u001b[1;32m     14\u001b[0m \u001b[0;34m\u001b[0m\u001b[0m\n\u001b[1;32m     15\u001b[0m \u001b[0;32mfor\u001b[0m \u001b[0mi\u001b[0m \u001b[0;32min\u001b[0m \u001b[0mrange\u001b[0m\u001b[0;34m(\u001b[0m\u001b[0mlen\u001b[0m\u001b[0;34m(\u001b[0m\u001b[0marray_lam\u001b[0m\u001b[0;34m)\u001b[0m\u001b[0;34m)\u001b[0m\u001b[0;34m:\u001b[0m\u001b[0;34m\u001b[0m\u001b[0;34m\u001b[0m\u001b[0m\n\u001b[0;32m---> 16\u001b[0;31m     \u001b[0marray_bb_lam0\u001b[0m\u001b[0;34m[\u001b[0m\u001b[0mi\u001b[0m\u001b[0;34m]\u001b[0m \u001b[0;34m=\u001b[0m \u001b[0mblackbody\u001b[0m\u001b[0;34m(\u001b[0m\u001b[0mtemp\u001b[0m\u001b[0;34m,\u001b[0m\u001b[0marray_lam\u001b[0m\u001b[0;34m[\u001b[0m\u001b[0mi\u001b[0m\u001b[0;34m]\u001b[0m\u001b[0;34m)\u001b[0m\u001b[0;34m[\u001b[0m\u001b[0;36m0\u001b[0m\u001b[0;34m]\u001b[0m\u001b[0;34m\u001b[0m\u001b[0;34m\u001b[0m\u001b[0m\n\u001b[0m\u001b[1;32m     17\u001b[0m     \u001b[0marray_bb_lam\u001b[0m\u001b[0;34m[\u001b[0m\u001b[0mi\u001b[0m\u001b[0;34m]\u001b[0m \u001b[0;34m=\u001b[0m \u001b[0mblackbody\u001b[0m\u001b[0;34m(\u001b[0m\u001b[0mtemp\u001b[0m\u001b[0;34m,\u001b[0m\u001b[0marray_lam\u001b[0m\u001b[0;34m[\u001b[0m\u001b[0mi\u001b[0m\u001b[0;34m]\u001b[0m\u001b[0;34m)\u001b[0m\u001b[0;34m[\u001b[0m\u001b[0;36m0\u001b[0m\u001b[0;34m]\u001b[0m \u001b[0;34m*\u001b[0m \u001b[0mfilt\u001b[0m\u001b[0;34m[\u001b[0m\u001b[0mb\u001b[0m\u001b[0;34m]\u001b[0m\u001b[0;34m[\u001b[0m\u001b[0;36m1\u001b[0m\u001b[0;34m]\u001b[0m\u001b[0;34m[\u001b[0m\u001b[0mi\u001b[0m\u001b[0;34m]\u001b[0m\u001b[0;34m\u001b[0m\u001b[0;34m\u001b[0m\u001b[0m\n\u001b[1;32m     18\u001b[0m     \u001b[0marray_bb_freq\u001b[0m\u001b[0;34m[\u001b[0m\u001b[0mi\u001b[0m\u001b[0;34m]\u001b[0m \u001b[0;34m=\u001b[0m \u001b[0mblackbody\u001b[0m\u001b[0;34m(\u001b[0m\u001b[0mtemp\u001b[0m\u001b[0;34m,\u001b[0m\u001b[0marray_lam\u001b[0m\u001b[0;34m[\u001b[0m\u001b[0mi\u001b[0m\u001b[0;34m]\u001b[0m\u001b[0;34m)\u001b[0m\u001b[0;34m[\u001b[0m\u001b[0;36m1\u001b[0m\u001b[0;34m]\u001b[0m \u001b[0;34m*\u001b[0m \u001b[0mfilt\u001b[0m\u001b[0;34m[\u001b[0m\u001b[0mb\u001b[0m\u001b[0;34m]\u001b[0m\u001b[0;34m[\u001b[0m\u001b[0;36m1\u001b[0m\u001b[0;34m]\u001b[0m\u001b[0;34m[\u001b[0m\u001b[0mi\u001b[0m\u001b[0;34m]\u001b[0m\u001b[0;34m\u001b[0m\u001b[0;34m\u001b[0m\u001b[0m\n",
      "\u001b[0;32m<ipython-input-2-33e304be9eff>\u001b[0m in \u001b[0;36mblackbody\u001b[0;34m(temp, lam)\u001b[0m\n\u001b[1;32m     12\u001b[0m     '''\n\u001b[1;32m     13\u001b[0m     \u001b[0;31m#frequency\u001b[0m\u001b[0;34m\u001b[0m\u001b[0;34m\u001b[0m\u001b[0;34m\u001b[0m\u001b[0m\n\u001b[0;32m---> 14\u001b[0;31m     \u001b[0mnu\u001b[0m \u001b[0;34m=\u001b[0m \u001b[0mc\u001b[0m\u001b[0;34m/\u001b[0m\u001b[0mlam\u001b[0m\u001b[0;34m\u001b[0m\u001b[0;34m\u001b[0m\u001b[0m\n\u001b[0m\u001b[1;32m     15\u001b[0m     \u001b[0mB_lambda\u001b[0m \u001b[0;34m=\u001b[0m \u001b[0;36m2\u001b[0m\u001b[0;34m*\u001b[0m\u001b[0mh\u001b[0m\u001b[0;34m*\u001b[0m\u001b[0mc\u001b[0m\u001b[0;34m**\u001b[0m\u001b[0;36m2\u001b[0m \u001b[0;34m/\u001b[0m \u001b[0;34m(\u001b[0m\u001b[0mlam\u001b[0m\u001b[0;34m**\u001b[0m\u001b[0;36m5\u001b[0m \u001b[0;34m*\u001b[0m \u001b[0;34m(\u001b[0m\u001b[0mnp\u001b[0m\u001b[0;34m.\u001b[0m\u001b[0mexp\u001b[0m\u001b[0;34m(\u001b[0m\u001b[0mh\u001b[0m\u001b[0;34m*\u001b[0m\u001b[0mc\u001b[0m\u001b[0;34m/\u001b[0m \u001b[0;34m(\u001b[0m\u001b[0mlam\u001b[0m\u001b[0;34m*\u001b[0m\u001b[0mk\u001b[0m\u001b[0;34m*\u001b[0m\u001b[0mtemp\u001b[0m\u001b[0;34m)\u001b[0m\u001b[0;34m)\u001b[0m \u001b[0;34m-\u001b[0m \u001b[0;36m1\u001b[0m\u001b[0;34m)\u001b[0m\u001b[0;34m)\u001b[0m\u001b[0;34m\u001b[0m\u001b[0;34m\u001b[0m\u001b[0m\n\u001b[1;32m     16\u001b[0m     \u001b[0mB_freq\u001b[0m \u001b[0;34m=\u001b[0m \u001b[0;36m2\u001b[0m\u001b[0;34m*\u001b[0m\u001b[0mh\u001b[0m\u001b[0;34m*\u001b[0m\u001b[0mnu\u001b[0m\u001b[0;34m**\u001b[0m\u001b[0;36m3\u001b[0m \u001b[0;34m/\u001b[0m \u001b[0;34m(\u001b[0m\u001b[0mc\u001b[0m\u001b[0;34m**\u001b[0m\u001b[0;36m3\u001b[0m \u001b[0;34m*\u001b[0m \u001b[0;34m(\u001b[0m\u001b[0mnp\u001b[0m\u001b[0;34m.\u001b[0m\u001b[0mexp\u001b[0m\u001b[0;34m(\u001b[0m\u001b[0mh\u001b[0m\u001b[0;34m*\u001b[0m\u001b[0mnu\u001b[0m\u001b[0;34m/\u001b[0m\u001b[0;34m(\u001b[0m\u001b[0mk\u001b[0m\u001b[0;34m*\u001b[0m\u001b[0mtemp\u001b[0m\u001b[0;34m)\u001b[0m\u001b[0;34m)\u001b[0m \u001b[0;34m-\u001b[0m \u001b[0;36m1\u001b[0m\u001b[0;34m)\u001b[0m\u001b[0;34m)\u001b[0m\u001b[0;34m\u001b[0m\u001b[0;34m\u001b[0m\u001b[0m\n",
      "\u001b[0;31mTypeError\u001b[0m: ufunc 'true_divide' not supported for the input types, and the inputs could not be safely coerced to any supported types according to the casting rule ''safe''"
     ]
    },
    {
     "data": {
      "image/png": "[encoded data removed]",
      "text/plain": [
       "<Figure size 720x288 with 2 Axes>"
      ]
     },
     "metadata": {
      "needs_background": "light"
     },
     "output_type": "display_data"
    }
   ],
   "source": [
    "f,ax = plt.subplots(1, 2, figsize=(10,4))\n",
    "b='Kepler'\n",
    "\n",
    "ax[0].plot(filt[b][0], filt[b][1])\n",
    "ax[0].set_xlabel('wavelength(Angstroam)')\n",
    "ax[0].set_title('Kepler transmission')\n",
    "\n",
    "array_lam = filt[b][0]*1e-9\n",
    "array_bb_lam0 = np.empty(len(filt[b][0]))\n",
    "array_bb_lam = np.empty(len(filt[b][0]))\n",
    "array_bb_freq = np.empty(len(filt[b][0]))\n",
    "\n",
    "temp=4000\n",
    "\n",
    "for i in range(len(array_lam)):\n",
    "    array_bb_lam0[i] = blackbody(temp,array_lam[i])[0]\n",
    "    array_bb_lam[i] = blackbody(temp,array_lam[i])[0] * filt[b][1][i]\n",
    "    array_bb_freq[i] = blackbody(temp,array_lam[i])[1] * filt[b][1][i]\n",
    "    \n",
    "ax[1].plot(array_lam, array_bb_lam0, label='bb')\n",
    "ax[1].plot(array_lam, array_bb_lam, label='bb * transmission')\n",
    "ax[1].legend(loc=\"upper left\", fontsize=10)\n",
    "\n",
    "\n",
    "f_obs_freq = sum(array_bb_freq) * ((2*R_sun)**2/(10*pc)**2)\n",
    "f_obs_freq_abs = sum(array_bb_freq) * ((2*R_sun)**2/(10*pc)**2)\n",
    "print(f_obs_freq)"
   ]
  },
  {
   "cell_type": "markdown",
   "metadata": {
    "ExecuteTime": {
     "end_time": "2021-05-25T07:03:20.176149Z",
     "start_time": "2021-05-25T07:03:20.036276Z"
    }
   },
   "source": [
    "#fluxunits: [erg/s/cm2/A]\n",
    "plt.plot(S.Vega.wave, S.Vega.flux)\n",
    "plt.xlim(0, 12000)\n",
    "plt.xlabel(S.Vega.waveunits)\n",
    "plt.ylabel(S.Vega.fluxunits)\n",
    "plt.title(os.path.basename(S.Vega.name))"
   ]
  },
  {
   "cell_type": "markdown",
   "metadata": {
    "ExecuteTime": {
     "end_time": "2021-05-25T07:03:22.351723Z",
     "start_time": "2021-05-25T07:03:22.239987Z"
    }
   },
   "source": [
    "vega_kepler_flux = S.Vega.flux[(S.Vega.wave>3479.0) & (S.Vega.wave<9701.0)]\n",
    "vega_kepler_wave =  S.Vega.wave[(S.Vega.wave>3479.0) & (S.Vega.wave<9701.0)]\n",
    "plt.plot(vega_kepler_wave, vega_kepler_flux )"
   ]
  },
  {
   "cell_type": "code",
   "execution_count": null,
   "metadata": {},
   "outputs": [],
   "source": []
  },
  {
   "cell_type": "code",
   "execution_count": null,
   "metadata": {},
   "outputs": [],
   "source": []
  },
  {
   "cell_type": "code",
   "execution_count": null,
   "metadata": {},
   "outputs": [],
   "source": []
  }
 ],
 "metadata": {
  "kernelspec": {
   "display_name": "Python 3",
   "language": "python",
   "name": "python3"
  },
  "language_info": {
   "codemirror_mode": {
    "name": "ipython",
    "version": 3
   },
   "file_extension": ".py",
   "mimetype": "text/x-python",
   "name": "python",
   "nbconvert_exporter": "python",
   "pygments_lexer": "ipython3",
   "version": "3.8.8"
  },
  "toc": {
   "base_numbering": 1,
   "nav_menu": {},
   "number_sections": true,
   "sideBar": true,
   "skip_h1_title": false,
   "title_cell": "Table of Contents",
   "title_sidebar": "Contents",
   "toc_cell": false,
   "toc_position": {},
   "toc_section_display": true,
   "toc_window_display": true
  }
 },
 "nbformat": 4,
 "nbformat_minor": 4
}
