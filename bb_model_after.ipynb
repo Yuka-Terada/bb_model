{
 "cells": [
  {
   "cell_type": "code",
   "execution_count": 1,
   "metadata": {
    "ExecuteTime": {
     "end_time": "2021-09-24T03:11:32.260683Z",
     "start_time": "2021-09-24T03:11:32.255366Z"
    }
   },
   "outputs": [
    {
     "name": "stdout",
     "output_type": "stream",
     "text": [
      "3.8.8\n"
     ]
    }
   ],
   "source": [
    "from platform import python_version\n",
    "print(python_version())"
   ]
  },
  {
   "cell_type": "code",
   "execution_count": 2,
   "metadata": {
    "ExecuteTime": {
     "end_time": "2021-09-24T03:11:33.568038Z",
     "start_time": "2021-09-24T03:11:32.825149Z"
    }
   },
   "outputs": [],
   "source": [
    "import os\n",
    "import numpy as np\n",
    "import math\n",
    "import matplotlib.pyplot as plt\n",
    "from mpl_toolkits.mplot3d import axes3d\n",
    "import pandas as pd\n",
    "#from pysynphot import spectrum as S\n",
    "from glob import glob\n",
    "import itertools\n",
    "\n",
    "import limbdark as ld\n",
    "\n",
    "import scipy\n",
    "from scipy.optimize import minimize\n",
    "from scipy.constants import k,c,h\n",
    "from scipy import integrate\n",
    "\n",
    "from astropy import units as u\n",
    "from astropy import constants as const\n",
    "from astropy.constants import G,R_jup,R_sun,M_jup,M_sun,au,pc,sigma_sb"
   ]
  },
  {
   "cell_type": "markdown",
   "metadata": {},
   "source": [
    "# Definition and filter settings"
   ]
  },
  {
   "cell_type": "code",
   "execution_count": 3,
   "metadata": {
    "ExecuteTime": {
     "end_time": "2021-09-24T03:11:36.739172Z",
     "start_time": "2021-09-24T03:11:36.713151Z"
    }
   },
   "outputs": [],
   "source": [
    "def _bb_f(lam,T):\n",
    "    '''\n",
    "    Planck's law[W/m**2/Hz/sr] with fixed temperature\n",
    "    [input]\n",
    "    temp: star's effective temperature\n",
    "    '''    \n",
    "    nu = c/lam\n",
    "    B_freq = 2*h*nu**3 / (c**2 * (np.exp(h*nu/ (k*T)) - 1))\n",
    "    \n",
    "    return B_freq\n",
    "\n",
    "\n",
    "def _band_intensity(temp, filt):\n",
    "    '''\n",
    "    calculate mean intensity\n",
    "    ref: Bessell(2011) eq.(A12)\n",
    "    \n",
    "    [Input]\n",
    "    temp: effective temperature of the star[K]\n",
    "    filt: filter profile downloaded from SVO filter profile\n",
    "    '''\n",
    "    lam = filt[0] * 1e-10\n",
    "    bb_freq_med = []\n",
    "    \n",
    "    for i in range(len(filt)):\n",
    "        nu = []\n",
    "        ar_freq = []\n",
    "        ar_bb_freq = []\n",
    "        ar_freq = np.linspace(lam[i]-100e-10, lam[i]+100e-10, 10)\n",
    "        ar_bb_freq = np.empty(len(ar_freq))\n",
    "        for j in range(len(ar_freq)):\n",
    "            ar_bb = []\n",
    "            ar_bb = _bb_f(ar_freq[j],temp)\n",
    "        bb_freq_med = np.median(ar_bb)\n",
    "\n",
    "    nume = math.fsum(bb_freq_med*filt[1]/(c/lam))\n",
    "    denomi = math.fsum(filt[1]/(c/lam))\n",
    "    mean_intensity = nume/denomi\n",
    "    \n",
    "    return mean_intensity\n",
    "\n",
    "\n",
    "\n",
    "class Mesh2D:\n",
    "    def __init__(self, xrange, yrange, n):\n",
    "        self.n = n\n",
    "        self.x_min = xrange[0]\n",
    "        self.x_max = xrange[1]\n",
    "        self.y_min = yrange[0]\n",
    "        self.y_max = yrange[1]\n",
    "        self.x = np.linspace(xrange[0], xrange[1], n)\n",
    "        self.y = np.linspace(yrange[0], yrange[1], n)\n",
    "        self.X, self.Y = np.meshgrid(self.x, self.y)\n",
    "        \n",
    "\n",
    "def _g_ratio(y, z, us, I_mean, xmin, xmax, ysmin, ysmax, zsmin, zsmax, ratio):\n",
    "    #mu = cos(theta)\n",
    "    u1,u2 = us\n",
    "\n",
    "    mu = np.sqrt(1-(y**2+z**2))\n",
    "    I_mu = (1 - u1*(1-mu) - u2*(1-mu)**2) * I_mean\n",
    "    if xmin>0 or xmax>0:\n",
    "        I_mu[(y>ysmin)&(y<ysmax)&(z>zsmin)&(z<zsmax)] = I_mu[(y>ysmin)&(y<ysmax)&(z>zsmin)&(z<zsmax)] * ratio\n",
    "    \n",
    "    I_mu[np.isnan(I_mu)] = 0.\n",
    "    return I_mu\n",
    "\n",
    "def _ldc(ld_params, band, law='quadratic'):\n",
    "    '''\n",
    "    calculate limb-darkening coefficients\n",
    "    \n",
    "    [Input]\n",
    "    ld_params :list of the parameters to calculate LDCs. [teff, uteff, logg, ulogg, feh, ufeh]\n",
    "    band: filter name (ex. 'V' 'r*')\n",
    "    '''\n",
    "    teff, uteff, logg, ulogg, feh, ufeh = ld_params\n",
    "    ldc_list     = []\n",
    "    ldc_err_list = []\n",
    "    ldp = []\n",
    "    \n",
    "    ldc = ld.claret(band, teff, uteff, logg, ulogg, feh, ufeh, n=int(1e4), law=law)\n",
    "    ldp.append(ldc)\n",
    "    #u1,u2\n",
    "    ldc_list=[ldc[0],ldc[2]] #take first and third element of ldc \n",
    "    #uncertainties\n",
    "    ldc_err_list=[ldc[1],ldc[3]] #take second and fourth element of ldc\n",
    "    \n",
    "    return ldc_list\n",
    "\n",
    "def _Rx(theta):\n",
    "    return np.matrix([[ 1, 0           , 0           ],\n",
    "                   [ 0, math.cos(theta),-math.sin(theta)],\n",
    "                   [ 0, math.sin(theta), math.cos(theta)]])\n",
    "  \n",
    "def _Ry(theta):\n",
    "    return np.matrix([[ math.cos(theta), 0, math.sin(theta)],\n",
    "                   [ 0           , 1, 0           ],\n",
    "                   [-math.sin(theta), 0, math.cos(theta)]])\n",
    "  \n",
    "def _Rz(theta):\n",
    "    return np.matrix([[ math.cos(theta), -math.sin(theta), 0 ],\n",
    "                   [ math.sin(theta), math.cos(theta) , 0 ],\n",
    "                   [ 0           , 0            , 1 ]])\n",
    "\n",
    "def _Ru(inc, phi):\n",
    "    ux = math.cos(inc)\n",
    "    uy = 0\n",
    "    uz = math.sin(inc)\n",
    "    \n",
    "    alpha = 1 - math.cos(phi)\n",
    "    beta  = math.sin(phi)\n",
    "    \n",
    "    return np.matrix([[alpha*ux**2 + math.cos(phi), alpha*ux*uy - beta*uz,      alpha*ux*uz + beta*uy],\n",
    "                               [alpha*uy*ux + beta*uz,     alpha*uy**2 + math.cos(phi), alpha*uy*uz - beta*ux],\n",
    "                               [alpha*uz*ux - beta*uy,      alpha*uz*uy + beta*ux,     alpha*uz**2+math.cos(phi)]])\n"
   ]
  },
  {
   "cell_type": "code",
   "execution_count": 4,
   "metadata": {
    "ExecuteTime": {
     "end_time": "2021-09-24T03:11:38.429728Z",
     "start_time": "2021-09-24T03:11:38.209516Z"
    }
   },
   "outputs": [
    {
     "name": "stdout",
     "output_type": "stream",
     "text": [
      "['./Generic_Johnson.B.dat', './Generic_Johnson.I.dat', './Generic_Johnson.R.dat', './Generic_Johnson.V.dat', './Kepler_Kepler.K.dat']\n"
     ]
    },
    {
     "data": {
      "text/plain": [
       "Text(0.5, 0, 'wavelength[m]')"
      ]
     },
     "execution_count": 4,
     "metadata": {},
     "output_type": "execute_result"
    },
    {
     "data": {
      "image/png": "[encoded data removed]",
      "text/plain": [
       "<Figure size 1080x288 with 1 Axes>"
      ]
     },
     "metadata": {
      "needs_background": "light"
     },
     "output_type": "display_data"
    }
   ],
   "source": [
    "datadir = '.'\n",
    "path    = os.path.join(datadir,'*.dat')\n",
    "file_list = glob(path)\n",
    "file_list = sorted(file_list)\n",
    "print(file_list)\n",
    "\n",
    "filt={}\n",
    "bands = 'B,I,R,V'.split(',')\n",
    "for fname,b in zip(file_list,bands):\n",
    "    df=pd.read_table(fname, delimiter=' ', parse_dates=True, header=None)\n",
    "    #df = df.drop('Unnamed: 0',axis=1)\n",
    "    #df = df.set_index('GJD-2450000')\n",
    "    filt[b] = df\n",
    "filt.keys()\n",
    "\n",
    "lam_col =  'lambda'\n",
    "trans_col  =  'transmission'\n",
    "\n",
    "colors='b,r,orange,g,black'.split(',')\n",
    "fig,ax = plt.subplots(1,1,figsize=(15,4))\n",
    "\n",
    "n=0\n",
    "for b,co in zip(bands,colors):\n",
    "    df = filt[b]    \n",
    "    lam_nm = df[0]*1e-10\n",
    "    trans = df[1]\n",
    "    \n",
    "    ax.plot(lam_nm, trans, label=b, color=co, alpha=0.5)\n",
    "    ax.set_ylabel('Transmission', fontsize=12)\n",
    "    n+=1\n",
    "plt.legend(loc='upper right',fontsize=12)\n",
    "plt.xlabel('wavelength[m]',fontsize=12)"
   ]
  },
  {
   "cell_type": "markdown",
   "metadata": {},
   "source": [
    "# rotaion"
   ]
  },
  {
   "cell_type": "code",
   "execution_count": 39,
   "metadata": {
    "ExecuteTime": {
     "end_time": "2021-09-24T10:52:30.185192Z",
     "start_time": "2021-09-24T10:52:30.160070Z"
    }
   },
   "outputs": [],
   "source": [
    "def lc_spot(params, radius, dist, spot_size, spot_temp, ngrid, nrho, inc, theta, psi, phase_width, filter_name):\n",
    "    '''\n",
    "    radius       [R_sun]: stellar radius \n",
    "    dist             [m]: distance\n",
    "    spot_size   [R_star]: spot size in stellar radius\n",
    "    ngrid               : mesh grid\n",
    "    nrho                : the number of points along the circumference of the spot\n",
    "    inc         [radian]: inclination\n",
    "    theta       [radian]: longitude\n",
    "    phi         [radian]: latitude\n",
    "    phase_width [radian]: \n",
    "    filter_name         : 'V','B' etc..\n",
    "    \n",
    "    '''\n",
    "    \n",
    "    teff, uteff, logg, ulogg, feh, ufeh = params\n",
    "    phi = math.pi/2 - inc\n",
    "    phase = np.arange(0, 2*np.pi, phase_width)\n",
    "    spot0_pos_ang = np.linspace(0, 2*np.pi, nrho)\n",
    "    spot_origin = np.array([[1],[0],[0]])\n",
    "    \n",
    "    R = _Ry(psi) * _Rz(theta) * _Ry(phi)\n",
    "    ldcs = _ldc(params, filter_name)\n",
    "    I_mean = _band_intensity(teff,filt[filter_name])\n",
    "    spot_ratio = _band_intensity(spot_temp, filt[filter_name])/I_mean\n",
    "    #print('mean intensity:', I_mean)\n",
    "    #print('ratio =', spot_ratio)\n",
    "    \n",
    "    coord_all = []\n",
    "    coord_min = []\n",
    "    coord_max = []\n",
    "    for i in range(len(phase)):\n",
    "\n",
    "        ys        = [[] for _ in range(nrho)] \n",
    "        zs        = [[] for _ in range(nrho)] \n",
    "        spot0   = [[] for _ in range(nrho)] #matrix\n",
    "        coord0 =  [[] for _ in range(nrho)] #matrix after rotation\n",
    "\n",
    "        for j in range(nrho):\n",
    "            x0 = np.sqrt(1 - spot_size**2)\n",
    "            zs[j] = spot_size * np.sin(spot0_pos_ang[j])\n",
    "            ys[j] = spot_size * np.cos(spot0_pos_ang[j])\n",
    "\n",
    "            spot0[j] = np.array([[x0],[ys[j]],[zs[j]]])\n",
    "            coord0[j] = (_Ru(inc, phase[i]) * (R * spot0[j]))\n",
    "\n",
    "        coord_all.append(coord0)\n",
    "        coord_max.append(np.amax(coord_all[i], axis=0))\n",
    "        coord_min.append(np.amin(coord_all[i], axis=0))\n",
    "        \n",
    "        \n",
    "    Zs = [[] for _ in range(len(phase))] \n",
    "    m = Mesh2D([-1,1], [-1, 1], ngrid)\n",
    "    for i in range(len(phase)):\n",
    "        Zs[i] = _g_ratio(m.X, m.Y, ldcs, I_mean, coord_min[i][0],coord_max[i][0],coord_min[i][1],coord_max[i][1], coord_min[i][2], coord_max[i][2], spot_ratio)\n",
    "\n",
    "\n",
    "    sum_intensity_x = [[] for _ in range(len(phase))] \n",
    "    sum_intensity   = [[] for _ in range(len(phase))] \n",
    "    test_flux   = [[] for _ in range(len(phase))] \n",
    "    spot_mag        = [[] for _ in range(len(phase))] \n",
    "    \n",
    "    test_flux_new  = [[] for _ in range(len(phase))] \n",
    "    for i in range(len(Zs)):\n",
    "        for j in range(len(Zs[i])):\n",
    "            sum_intensity_x[i].append(math.fsum(Zs[i][j]))\n",
    "        sum_intensity = math.fsum(sum_intensity_x[i])\n",
    "        r_d = radius * R_sun/dist\n",
    "        arcsin = r_d + 1/6*r_d**3 + 3/40*r_d**5 + 5/112*r_d**7\n",
    "        test_flux = np.pi * sum_intensity/(ngrid**2) * 1/2 * (-math.cos(2*math.asin(r_d)) + 1)\n",
    "        test_flux_new = np.pi * sum_intensity/(ngrid**2) * 1/2 * (-(1 - 1/2 *(2*arcsin)**2 + 1/24*(2*arcsin)**4 - 1/720*(2*arcsin)**6) + 1)\n",
    "        spot_mag[i].append(-2.5 * np.log10(test_flux_new*1e3)- 48.6)\n",
    "        \n",
    "    return coord_all, phase, spot_mag"
   ]
  },
  {
   "cell_type": "code",
   "execution_count": 40,
   "metadata": {
    "ExecuteTime": {
     "end_time": "2021-09-24T10:52:37.383844Z",
     "start_time": "2021-09-24T10:52:35.303546Z"
    }
   },
   "outputs": [
    {
     "name": "stderr",
     "output_type": "stream",
     "text": [
      "<ipython-input-3-f92dc549424b>:60: RuntimeWarning: invalid value encountered in sqrt\n",
      "  mu = np.sqrt(1-(y**2+z**2))\n"
     ]
    }
   ],
   "source": [
    "params = [5700, 90, 4.470, 0.054, -0.01, 0.14]\n",
    "coo_all_sun = [[] for _ in range(len(bands))] \n",
    "pha_sun = [[] for _ in range(len(bands))] \n",
    "mags_sun = [[] for _ in range(len(bands))] \n",
    "for i,b in zip(range(len(bands)),bands):\n",
    "    coo_all_sun[i], pha_sun[i], mags_sun[i] = lc_spot(params, 1, au, 0.1, 3000, 100, 20, np.pi/2-np.pi/6, np.pi/6, 0, np.pi/12, b)\n"
   ]
  },
  {
   "cell_type": "code",
   "execution_count": 41,
   "metadata": {
    "ExecuteTime": {
     "end_time": "2021-09-24T10:52:44.628606Z",
     "start_time": "2021-09-24T10:52:44.228922Z"
    }
   },
   "outputs": [
    {
     "name": "stderr",
     "output_type": "stream",
     "text": [
      "WARNING: AstropyDeprecationWarning: The truth value of a Quantity is ambiguous. In the future this will raise a ValueError. [astropy.units.quantity]\n"
     ]
    },
    {
     "data": {
      "image/png": "[encoded data removed]",
      "text/plain": [
       "<Figure size 864x288 with 4 Axes>"
      ]
     },
     "metadata": {
      "needs_background": "light"
     },
     "output_type": "display_data"
    }
   ],
   "source": [
    "colors = ['b','g','orange','r']\n",
    "\n",
    "#since there are 3 plots, use subplot\n",
    "fig, ax = plt.subplots(nrows=1,ncols=4,figsize=(12,4), sharex=True)\n",
    "\n",
    "n=0\n",
    "\n",
    "for i,b,co in zip(range(4),bands,colors):\n",
    "    \n",
    "    ax[n].scatter(pha_sun[i]/(2*np.pi), mags_sun[i], color=co)\n",
    "    \n",
    "    #add plot labels\n",
    "    ax[n].set_title(str(b) + '-band', fontsize=15)\n",
    "    ax[n].set_xlabel('phase')\n",
    "    ax[n].set_ylabel('AB mag')\n",
    "    #ax[n].legend(loc='lower left')\n",
    "    #increase the axis counter\n",
    "    n=n+1\n",
    "    \n",
    "#make better spacing\n",
    "fig.tight_layout()"
   ]
  },
  {
   "cell_type": "code",
   "execution_count": 42,
   "metadata": {
    "ExecuteTime": {
     "end_time": "2021-09-24T10:52:53.381965Z",
     "start_time": "2021-09-24T10:52:51.431568Z"
    }
   },
   "outputs": [
    {
     "name": "stderr",
     "output_type": "stream",
     "text": [
      "<ipython-input-3-f92dc549424b>:60: RuntimeWarning: invalid value encountered in sqrt\n",
      "  mu = np.sqrt(1-(y**2+z**2))\n",
      "/home/yterada/anaconda3/envs/dmtau/lib/python3.8/site-packages/astropy/units/quantity.py:479: RuntimeWarning: divide by zero encountered in log10\n",
      "  result = super().__array_ufunc__(function, method, *arrays, **kwargs)\n"
     ]
    }
   ],
   "source": [
    "params_dm = [5700, 90, 4.470, 0.054, -0.01, 0.14]\n",
    "coo_all_dm = [[] for _ in range(len(bands))] \n",
    "pha_dm = [[] for _ in range(len(bands))] \n",
    "mags_dm = [[] for _ in range(len(bands))] \n",
    "for i,b in zip(range(len(bands)),bands):\n",
    "    coo_all_dm[i], pha_dm[i], mags_dm[i] = lc_spot(params_dm, 1, 145*pc, 0.1, 3000, 100, 20, np.pi/2, 0, 0, np.pi/12, b)"
   ]
  },
  {
   "cell_type": "code",
   "execution_count": 43,
   "metadata": {
    "ExecuteTime": {
     "end_time": "2021-09-24T10:52:53.832668Z",
     "start_time": "2021-09-24T10:52:53.383166Z"
    }
   },
   "outputs": [
    {
     "data": {
      "image/png": "[encoded data removed]",
      "text/plain": [
       "<Figure size 864x288 with 4 Axes>"
      ]
     },
     "metadata": {
      "needs_background": "light"
     },
     "output_type": "display_data"
    }
   ],
   "source": [
    "colors = ['b','g','orange','r']\n",
    "\n",
    "#since there are 3 plots, use subplot\n",
    "fig, ax = plt.subplots(nrows=1,ncols=4,figsize=(12,4), sharex=True)\n",
    "\n",
    "n=0\n",
    "\n",
    "for i,b,co in zip(range(4),bands,colors):\n",
    "    \n",
    "    ax[n].scatter(pha_dm[i]/(2*np.pi), mags_dm[i], color=co)\n",
    "    \n",
    "    #add plot labels\n",
    "    ax[n].set_title(str(b) + '-band', fontsize=15)\n",
    "    ax[n].set_xlabel('phase')\n",
    "    ax[n].set_ylabel('AB mag')\n",
    "    #ax[n].legend(loc='lower left')\n",
    "    #increase the axis counter\n",
    "    n=n+1\n",
    "    \n",
    "#make better spacing\n",
    "fig.tight_layout()"
   ]
  }
 ],
 "metadata": {
  "interpreter": {
   "hash": "dda431914ba869f88641177a6e430adbf0a2f4a310629e39f1be16a934b2c8fd"
  },
  "kernelspec": {
   "display_name": "Python 3",
   "language": "python",
   "name": "python3"
  },
  "language_info": {
   "codemirror_mode": {
    "name": "ipython",
    "version": 3
   },
   "file_extension": ".py",
   "mimetype": "text/x-python",
   "name": "python",
   "nbconvert_exporter": "python",
   "pygments_lexer": "ipython3",
   "version": "3.8.8"
  },
  "toc": {
   "base_numbering": 1,
   "nav_menu": {},
   "number_sections": true,
   "sideBar": true,
   "skip_h1_title": false,
   "title_cell": "Table of Contents",
   "title_sidebar": "Contents",
   "toc_cell": false,
   "toc_position": {},
   "toc_section_display": true,
   "toc_window_display": true
  }
 },
 "nbformat": 4,
 "nbformat_minor": 4
}
